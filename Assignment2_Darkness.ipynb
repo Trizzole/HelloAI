{
  "nbformat": 4,
  "nbformat_minor": 0,
  "metadata": {
    "colab": {
      "provenance": [],
      "authorship_tag": "ABX9TyMgMCUin3hkK2stM5/zXjSk",
      "include_colab_link": true
    },
    "kernelspec": {
      "name": "python3",
      "display_name": "Python 3"
    },
    "language_info": {
      "name": "python"
    }
  },
  "cells": [
    {
      "cell_type": "markdown",
      "metadata": {
        "id": "view-in-github",
        "colab_type": "text"
      },
      "source": [
        "<a href=\"https://colab.research.google.com/github/Trizzole/HelloAI/blob/main/Assignment2_Darkness.ipynb\" target=\"_parent\"><img src=\"https://colab.research.google.com/assets/colab-badge.svg\" alt=\"Open In Colab\"/></a>"
      ]
    },
    {
      "cell_type": "code",
      "execution_count": 1,
      "metadata": {
        "colab": {
          "base_uri": "https://localhost:8080/"
        },
        "id": "EhLH4-MaARne",
        "outputId": "7d1621a8-a6df-45d0-d1d6-f7658536f0df"
      },
      "outputs": [
        {
          "output_type": "stream",
          "name": "stdout",
          "text": [
            "Downloading data from https://storage.googleapis.com/tensorflow/tf-keras-datasets/mnist.npz\n",
            "11490434/11490434 [==============================] - 1s 0us/step\n"
          ]
        }
      ],
      "source": [
        "# get tensorflow and mnist data\n",
        "from tensorflow.keras.datasets import mnist\n",
        "(X_train, Y_train), (X_test, Y_test) = mnist.load_data()"
      ]
    },
    {
      "cell_type": "code",
      "source": [
        "# import numpy\n",
        "import numpy as np\n",
        "#undoes text wrap nonsense\n",
        "np.set_printoptions(linewidth=np.inf)"
      ],
      "metadata": {
        "id": "8LP--pGeEJbO"
      },
      "execution_count": 2,
      "outputs": []
    },
    {
      "cell_type": "code",
      "source": [
        "### \"Java\" way to do this ###\n",
        "#retval = minst.load_data()\n",
        "#X_train = retval[0][0]\n",
        "#Y_train = retval[0][1]\n",
        "#X_test = retval[1][0]\n",
        "#Y_test = retval[1][1]"
      ],
      "metadata": {
        "id": "p0K6z3SfAuDL"
      },
      "execution_count": 3,
      "outputs": []
    },
    {
      "cell_type": "markdown",
      "source": [
        "X_train and Y_Train are the training data\n",
        "X_test and Y_test are the testing data\n",
        "\n",
        "X - Inputs\n",
        "Y - Labels \n"
      ],
      "metadata": {
        "id": "XQlB5NcWQkyC"
      }
    },
    {
      "cell_type": "code",
      "source": [
        "# Get shape of data and individual data entries\n",
        "print(X_train.shape)\n",
        "print(Y_train.shape)\n",
        "print(X_test.shape)\n",
        "print(Y_test.shape)\n",
        "\n",
        "print(X_train[0].shape)\n",
        "print(Y_train[0].shape)\n",
        "print(X_test[0].shape)\n",
        "print(Y_test[0].shape)"
      ],
      "metadata": {
        "id": "9njPCG8YCwJQ"
      },
      "execution_count": null,
      "outputs": []
    },
    {
      "cell_type": "code",
      "source": [
        "# Print data entries themselves\n",
        "print(X_train[0])\n",
        "print(Y_train[0])\n",
        "print(X_test[0])\n",
        "print(Y_test[0])"
      ],
      "metadata": {
        "id": "sWNeHdiEEAC2"
      },
      "execution_count": null,
      "outputs": []
    },
    {
      "cell_type": "code",
      "source": [
        "listof10s = [(x+1)*10 for x in range(10)]\n",
        "print(listof10s)"
      ],
      "metadata": {
        "colab": {
          "base_uri": "https://localhost:8080/"
        },
        "id": "vURECxLtzUhE",
        "outputId": "aad94007-a7a9-4c9b-acb8-73ff4431d2a3"
      },
      "execution_count": 20,
      "outputs": [
        {
          "output_type": "stream",
          "name": "stdout",
          "text": [
            "[10, 20, 30, 40, 50, 60, 70, 80, 90, 100]\n"
          ]
        }
      ]
    },
    {
      "cell_type": "code",
      "source": [
        "# example: pre-process to convert into valid inputs for a neural network\n",
        "X_train_2d = [x/255.0 for x in X_train]\n",
        "print(X_train_2d[2])\n",
        "\n",
        "# example: convert each image into 1d \"flattened\" vector of inputs\n",
        "X_train_flat = np.reshape(X_train_2d, (60000,784,1))\n",
        "print(X_train_flat[2])"
      ],
      "metadata": {
        "id": "gEjYRdsHxjJs"
      },
      "execution_count": null,
      "outputs": []
    },
    {
      "cell_type": "code",
      "source": [
        "# matplotlib\n",
        "import matplotlib.pyplot as plt\n",
        "%matplotlib inline"
      ],
      "metadata": {
        "id": "I-lcZBZ6S0Ar"
      },
      "execution_count": 6,
      "outputs": []
    },
    {
      "cell_type": "code",
      "source": [
        "# plot 10 random images\n",
        "import random \n",
        "for i in range(10):\n",
        "  #print(random.randint(0,len(X_train)))\n",
        "  imgx = X_train[random.randint(0,len(X_train))]\n",
        "  print(imgx)"
      ],
      "metadata": {
        "id": "v29kA-mrTQry"
      },
      "execution_count": null,
      "outputs": []
    },
    {
      "cell_type": "code",
      "source": [
        "# pick a sample to plot\n",
        "sample = 1\n",
        "image = X_train[sample]\n",
        "# plot the sample\n",
        "fig = plt.figure\n",
        "plt.imshow(image, cmap='gray')\n",
        "plt.show()"
      ],
      "metadata": {
        "id": "-OuA5R7_EUvx"
      },
      "execution_count": null,
      "outputs": []
    },
    {
      "cell_type": "code",
      "source": [
        "### from medium, not needed for final results ###\n",
        "num = 10\n",
        "images = X_train[:num]\n",
        "labels = Y_train[:num]"
      ],
      "metadata": {
        "id": "-NRevkwlTLuH"
      },
      "execution_count": 9,
      "outputs": []
    },
    {
      "cell_type": "code",
      "source": [
        "# creates set of 10 random numbers from 0 to length of X_train\n",
        "from random import randint\n",
        "randoms = []\n",
        "for i in range(10):\n",
        "    randoms.append((randint(0,len(X_train))))\n",
        "print(randoms)\n",
        "\n",
        "# assigns random 10 values to the corresponding indecies in X_train and Y_train\n",
        "images_train = X_train[randoms]\n",
        "labels_train = Y_train[randoms]\n"
      ],
      "metadata": {
        "colab": {
          "base_uri": "https://localhost:8080/"
        },
        "id": "vNZ9mK1ZVaY1",
        "outputId": "4123007f-bdb1-4df3-8011-37dca61fc2d2"
      },
      "execution_count": 10,
      "outputs": [
        {
          "output_type": "stream",
          "name": "stdout",
          "text": [
            "[24298, 48584, 59660, 56409, 16090, 57084, 45246, 37220, 14525, 43205]\n"
          ]
        }
      ]
    },
    {
      "cell_type": "code",
      "source": [
        "### Plots the 10 random images from train ###\n",
        "num_train = 10\n",
        "num_row = 2\n",
        "num_col = 5\n",
        "# plot images\n",
        "fig, axes = plt.subplots(num_row, num_col, figsize=(1.5*num_col,2*num_row))\n",
        "for i in range(num_train):\n",
        "    ax = axes[i//num_col, i%num_col]\n",
        "    ax.imshow(images_train[i], cmap='gray')\n",
        "    ax.set_title('Label: {}'.format(labels_train[i]))\n",
        "plt.tight_layout()\n",
        "plt.show()"
      ],
      "metadata": {
        "id": "yCl0_jTITOd1"
      },
      "execution_count": null,
      "outputs": []
    },
    {
      "cell_type": "code",
      "source": [
        "# creates set of 2 random numbers from 0 to length of X_test\n",
        "from random import randint\n",
        "randoms = []\n",
        "for i in range(2):\n",
        "    randoms.append((randint(0,len(X_test))))\n",
        "print(randoms)\n",
        "\n",
        "# assigns random 10 values to the corresponding indecies in X_train and Y_train\n",
        "images_test = X_test[randoms]\n",
        "labels_test = Y_test[randoms]"
      ],
      "metadata": {
        "colab": {
          "base_uri": "https://localhost:8080/"
        },
        "id": "LmmgAJBXGJHv",
        "outputId": "9f2d58ad-8d2d-4b4d-ec05-d0888309ef4c"
      },
      "execution_count": 12,
      "outputs": [
        {
          "output_type": "stream",
          "name": "stdout",
          "text": [
            "[5345, 8596]\n"
          ]
        }
      ]
    },
    {
      "cell_type": "code",
      "source": [
        "### Plots the 2 random images from test ###\n",
        "num_test = 2\n",
        "num_row = 1\n",
        "num_col = 2\n",
        "# plot images\n",
        "fig, axes = plt.subplots(num_row, num_col, figsize=(1.5*num_col,2*num_row))\n",
        "for i in range(num_test):\n",
        "    ### change in ax = '...' from train plot ###\n",
        "    ax = axes[i%num_col]\n",
        "    ax.imshow(images_test[i], cmap='gray')\n",
        "    ax.set_title('Label: {}'.format(labels_test[i]))\n",
        "plt.tight_layout()\n",
        "plt.show()"
      ],
      "metadata": {
        "colab": {
          "base_uri": "https://localhost:8080/",
          "height": 136
        },
        "id": "ROnvo0GGGlAr",
        "outputId": "7f16faf9-9954-4602-8fdc-b19139fd07b0"
      },
      "execution_count": 13,
      "outputs": [
        {
          "output_type": "display_data",
          "data": {
            "text/plain": [
              "<Figure size 216x144 with 2 Axes>"
            ],
            "image/png": "[encoded data removed]"
          },
          "metadata": {
            "needs_background": "light"
          }
        }
      ]
    },
    {
      "cell_type": "code",
      "source": [
        "# count how many digits are in Y_train\n",
        "counts = [0]*10\n",
        "for y in Y_train:\n",
        "  counts[y] = counts[y] + 1\n",
        "\n",
        "print(counts)\n",
        "\n",
        "# count how many digits in Y_test\n",
        "t_counts = [0]*10\n",
        "for y in Y_test:\n",
        "  t_counts[y] = t_counts[y] + 1\n",
        "\n",
        "print(t_counts)"
      ],
      "metadata": {
        "colab": {
          "base_uri": "https://localhost:8080/"
        },
        "id": "QyEgwJBtVbzG",
        "outputId": "b27401e7-8a2c-48b1-88d9-bc3ffc2e979f"
      },
      "execution_count": 22,
      "outputs": [
        {
          "output_type": "stream",
          "name": "stdout",
          "text": [
            "[5923, 6742, 5958, 6131, 5842, 5421, 5918, 6265, 5851, 5949]\n",
            "[980, 1135, 1032, 1010, 982, 892, 958, 1028, 974, 1009]\n"
          ]
        }
      ]
    },
    {
      "cell_type": "code",
      "source": [
        "# create a function that calculates darkness of single image\n",
        "def calcDarkness(x):\n",
        "  total = 0\n",
        "  for r in range(28):\n",
        "    for c in range(28):\n",
        "      total = total + x[r][c]\n",
        "  return total\n"
      ],
      "metadata": {
        "id": "Nt4LPaXhWmc_"
      },
      "execution_count": 28,
      "outputs": []
    },
    {
      "cell_type": "code",
      "source": [
        "# test our darkness funciton\n",
        "print(calcDarkness(X_train[1]))\n",
        "\n",
        "# will need to use enumerate or zip\n",
        "# loop through all train images\n",
        "# get darnkess, assign to right digit\n",
        "# will need to find average for each\n",
        "darknesses = [0] * 10\n",
        "for x, y in zip(X_train, Y_train):\n",
        "  darkness = calcDarkness(x)\n",
        "  darknesses[y] = darknesses[y] + darkness\n",
        "\n",
        "# makes darknesses averages\n",
        "darknesses = [darknesstotal/counts[i] for i, darknesstotal in enumerate(darknesses)]\n",
        "darnkesses2 = [dt/cnt for cnt, dt in zip(counts, darknesses)]\n",
        "print(darknesses)\n",
        "print(darnkesses2)"
      ],
      "metadata": {
        "colab": {
          "base_uri": "https://localhost:8080/"
        },
        "id": "64U6OssJW7pm",
        "outputId": "3de39480-2901-4f68-9c66-694ab869c55b"
      },
      "execution_count": 30,
      "outputs": [
        {
          "output_type": "stream",
          "name": "stdout",
          "text": [
            "31095\n",
            "[34665.99307783218, 15193.648620587363, 29783.10775427996, 28294.706246941772, 24263.40893529613, 25739.57885998893, 27449.37090233187, 22896.377334397446, 30019.183900188003, 24508.181375021013]\n",
            "[5.852776140103356, 2.253581818538618, 4.998843194743196, 4.615023038157196, 4.153270957770649, 4.748123752073221, 4.638285046017551, 3.654649215386663, 5.1306074004765, 4.119714468821821]\n"
          ]
        }
      ]
    },
    {
      "cell_type": "code",
      "source": [
        "# use matplot lib to plot the average darkness of each digit ... \n",
        "# this is NOT part of the assignment, but it gives you some example code for working with matplotlib\n",
        "import matplotlib.pyplot as plt\n",
        "fig, ax = plt.subplots(figsize=(25, 8))\n",
        "digits = [f\"{i}\" for i in range(10)]\n",
        "p1 = ax.bar(digits,darknesses, label=\"darkness\")\n",
        "p2, = ax.plot(digits,darknesses, color='orange', label=\"darkness\", marker='o')\n",
        "ax.legend(handles=[p1, p2],loc='upper right',title='config') \n",
        "ax.set_xlabel(\"digit\")\n",
        "ax.set_ylabel(\"average darkness\")\n",
        "plt.title(\"example: digit average darkness\")\n",
        "plt.show()"
      ],
      "metadata": {
        "colab": {
          "base_uri": "https://localhost:8080/",
          "height": 410
        },
        "id": "ppHU46AuvZtl",
        "outputId": "bfc1457c-2f66-4eba-8866-54a0e37a9c7b"
      },
      "execution_count": 17,
      "outputs": [
        {
          "output_type": "display_data",
          "data": {
            "text/plain": [
              "<Figure size 1800x576 with 1 Axes>"
            ],
            "image/png": "[encoded data removed]"
          },
          "metadata": {
            "needs_background": "light"
          }
        }
      ]
    },
    {
      "cell_type": "code",
      "source": [
        "def findClosest(darkness):\n",
        "  diffs = darknesses - darkness\n",
        "  #print(diffs)\n",
        "  #print(np.abs(diffs))\n",
        "  #print(np.min(np.abs(diffs)))\n",
        "  #print(np.argmin(np.abs(diffs)))\n",
        "  return np.argmin(np.abs(diffs))"
      ],
      "metadata": {
        "id": "92us92sC3IcB"
      },
      "execution_count": 34,
      "outputs": []
    },
    {
      "cell_type": "code",
      "source": [
        "accuracies = [0]*10\n",
        "for i in range(len(X_test)):\n",
        "  x = X_test[i]\n",
        "  label = Y_test[i]\n",
        "  darknessX = calcDarkness(x)\n",
        "  predictedLabel = findClosest(darknessX)\n",
        "  if(Y_test[i] == predictedLabel):\n",
        "    accuracies[predictedLabel] += 1\n",
        "# predicted = actual: increment accuricies index\n",
        "  \n",
        "  # ... now you should take the darkness you calculated for this image … compare it to  the other “average” darknesses for each digit\n",
        "  # ... pick the digit that this darkness is closest to\n",
        "  # ... does that digit match the label? If so, increment a count of how many images you’ve classified correctly ...\n",
        "  # ... note that there are 10 different accuracy counts (one for each digit, so every time you get a prediction correct, update the appropriate accuracy count)\n",
        "\n",
        "# now put your pyplot here AFTER the for loop (i.e., not indented)\n",
        "# use the digits below as the x axis and your accuracies as the y axis\n",
        "\n",
        "# setup the x-axis\n",
        "digits = [f\"{i}\" for i in range(10)] # list comprehension that creates the digits as strings so that they all show up on the x axis\n",
        "\n",
        "# look at the examples to see how to plot something once you have the x-axis (digits) and the y-axis (accuracies)\n",
        "\n",
        "\n",
        "fig, ax = plt.subplots(figsize=(25, 8))\n",
        "digits = [f\"{i}\" for i in range(10)]\n",
        "p1 = ax.bar(digits,accuracies, label=\"accuricies(raw count)\") ### turn into accuracies\n",
        "ax.set_xlabel(\"digit\")\n",
        "ax.set_ylabel(\"darkness count\")\n",
        "plt.title(\"Accuracy count(raw) by digit\")\n",
        "plt.show()"
      ],
      "metadata": {
        "colab": {
          "base_uri": "https://localhost:8080/",
          "height": 414
        },
        "id": "KeXyWKgY3ElW",
        "outputId": "6d167465-fb3c-4b1c-bbc1-062e4dfa3fb0"
      },
      "execution_count": 44,
      "outputs": [
        {
          "output_type": "display_data",
          "data": {
            "text/plain": [
              "<Figure size 1800x576 with 1 Axes>"
            ],
            "image/png": "[encoded data removed]"
          },
          "metadata": {
            "needs_background": "light"
          }
        }
      ]
    },
    {
      "cell_type": "code",
      "source": [],
      "metadata": {
        "id": "zANBL5hs7H9G"
      },
      "execution_count": null,
      "outputs": []
    }
  ]
}